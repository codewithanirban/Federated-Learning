{
 "cells": [
  {
   "cell_type": "code",
   "execution_count": 6,
   "id": "4a7c1701",
   "metadata": {},
   "outputs": [],
   "source": [
    "from zipfile import ZipFile\n",
    "from os import mkdir\n",
    "import os"
   ]
  },
  {
   "cell_type": "code",
   "execution_count": 9,
   "id": "db872b59",
   "metadata": {},
   "outputs": [
    {
     "name": "stdout",
     "output_type": "stream",
     "text": [
      "Directory 'Kaggle_Cardiovascular_dataset' created\n",
      "C:\\Users\\dccha\\Desktop\\CODING\\Projects\\Federated Learning\\Kaggle_Cardiovascular_dataset\n"
     ]
    }
   ],
   "source": [
    "path = \"C:\\\\Users\\\\dccha\\\\Desktop\\\\CODING\\\\Projects\\\\Federated Learning\"\n",
    "\n",
    "direc = \"Kaggle_Cardiovascular_dataset\"\n",
    "\n",
    "path = os.path.join(path,direc)\n",
    "\n",
    "os.mkdir(path)\n",
    "\n",
    "print(\"Directory '%s' created\" %direc)\n",
    "print(path)"
   ]
  },
  {
   "cell_type": "code",
   "execution_count": 10,
   "id": "f4285c1e",
   "metadata": {},
   "outputs": [
    {
     "name": "stdout",
     "output_type": "stream",
     "text": [
      "<zipfile.ZipFile [closed]> is unzipped at C:\\Users\\dccha\\Desktop\\CODING\\Projects\\Federated Learning\\Kaggle_Cardiovascular_dataset\n"
     ]
    }
   ],
   "source": [
    "with ZipFile(\"C:\\\\Users\\\\dccha\\\\Desktop\\\\CODING\\\\Projects\\\\Federated Learning\\\\archive.zip\",'r') as z:\n",
    "    z.extractall(path=path)\n",
    "print(f'{z} is unzipped at {path}')\n",
    "z.close()"
   ]
  },
  {
   "cell_type": "code",
   "execution_count": 12,
   "id": "1e69d405",
   "metadata": {},
   "outputs": [],
   "source": [
    "os.remove(\"C:\\\\Users\\\\dccha\\\\Desktop\\\\CODING\\\\Projects\\\\Federated Learning\\\\archive.zip\")"
   ]
  },
  {
   "cell_type": "code",
   "execution_count": null,
   "id": "3b95e805",
   "metadata": {},
   "outputs": [],
   "source": []
  }
 ],
 "metadata": {
  "kernelspec": {
   "display_name": "Python 3 (ipykernel)",
   "language": "python",
   "name": "python3"
  },
  "language_info": {
   "codemirror_mode": {
    "name": "ipython",
    "version": 3
   },
   "file_extension": ".py",
   "mimetype": "text/x-python",
   "name": "python",
   "nbconvert_exporter": "python",
   "pygments_lexer": "ipython3",
   "version": "3.11.5"
  }
 },
 "nbformat": 4,
 "nbformat_minor": 5
}
